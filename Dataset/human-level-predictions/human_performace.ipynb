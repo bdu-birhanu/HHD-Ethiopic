{
 "cells": [
  {
   "cell_type": "code",
   "execution_count": 1,
   "metadata": {},
   "outputs": [],
   "source": [
    "import pandas as pd"
   ]
  },
  {
   "cell_type": "code",
   "execution_count": 2,
   "metadata": {},
   "outputs": [],
   "source": [
    "#19th and 20th cent\n",
    "df= pd.read_csv('./Human_predictions/6375_human_level_new/6375_new_all.csv')\n",
    "df_18= pd.read_csv('./Human_predictions/15935_human_level_new/15935_new_all.csv')"
   ]
  },
  {
   "cell_type": "code",
   "execution_count": 3,
   "metadata": {},
   "outputs": [
    {
     "data": {
      "text/html": [
       "<div>\n",
       "<style scoped>\n",
       "    .dataframe tbody tr th:only-of-type {\n",
       "        vertical-align: middle;\n",
       "    }\n",
       "\n",
       "    .dataframe tbody tr th {\n",
       "        vertical-align: top;\n",
       "    }\n",
       "\n",
       "    .dataframe thead th {\n",
       "        text-align: right;\n",
       "    }\n",
       "</style>\n",
       "<table border=\"1\" class=\"dataframe\">\n",
       "  <thead>\n",
       "    <tr style=\"text-align: right;\">\n",
       "      <th></th>\n",
       "      <th>image</th>\n",
       "      <th>gt</th>\n",
       "      <th>annot1</th>\n",
       "      <th>annot2</th>\n",
       "      <th>annot3</th>\n",
       "      <th>annot4</th>\n",
       "      <th>annot5</th>\n",
       "      <th>annot6</th>\n",
       "      <th>annot7</th>\n",
       "      <th>annot8</th>\n",
       "      <th>annot9</th>\n",
       "    </tr>\n",
       "  </thead>\n",
       "  <tbody>\n",
       "    <tr>\n",
       "      <th>0</th>\n",
       "      <td>test_rand_00000.png</td>\n",
       "      <td>ፅ፡ዳዊት፡፻፵፱፡ሰብሕዎ፡</td>\n",
       "      <td>ፅ፡ ዳ ዊ ት፡፻ ፵ ፱፡ ሰ ብሕ ዎ፡</td>\n",
       "      <td>ፅ፡ ዳ ዊ ት፡፻ ፵ ፱፡ ሰ ብሕ ዎ፡</td>\n",
       "      <td>ፅ፡ ዳ ዊ ት፡ ፻፵፱፡ ሰብሐዎ፡</td>\n",
       "      <td>ፅ፡ዳዊት፡፻፵፱፡ ሰብሕ ዎ፡</td>\n",
       "      <td>ፅ፡ዳዊት፡፻፵፱፡ሰብሕዎ፡</td>\n",
       "      <td>ፅ፡ ዳዊት፡፻፵፱፡ ስብሕዎ</td>\n",
       "      <td>ፅ፡ ዳዊት፡ ፻፵፱፡ ሰብሕ ዎ፡</td>\n",
       "      <td>ፅ፡ዳዊት፡ ፩፵ሀ፡ሰብሕዎ፡</td>\n",
       "      <td>ፅ፡ደዊት፡፻፵ፅ፡ሰብሕዎ፡</td>\n",
       "    </tr>\n",
       "    <tr>\n",
       "      <th>1</th>\n",
       "      <td>test_rand_00001.png</td>\n",
       "      <td>ኦሰ፡ኤጲሰ፡ቆጶስ፡፲፬እስተ</td>\n",
       "      <td>ኦስ፡ኢጲስ፡ቆጰስ፡፲፸አስተ</td>\n",
       "      <td>ኦስ፡ኢጲስ፡ቆጰስ፡፲፸አስተ</td>\n",
       "      <td>ኦስ፡ኤጲስ፡ቆጶስ፡፲፪አስተ</td>\n",
       "      <td>ኦስ፡ኢጲስ፡ቆጰስ፡፲፸አስተ</td>\n",
       "      <td>ኦሰ፡አጲስ፡ቆጶስ፡፲፪አስተ</td>\n",
       "      <td>ኦስ፡ኤጲስ፡ቆጶስ፡፲፪አስተ</td>\n",
       "      <td>ኦስ፡ኢጲስ፡ቆጰስ፡፲፸አስተ</td>\n",
       "      <td>ኦስ፡ኢጲስ፡ቆጶስ፡፲፪እስተ</td>\n",
       "      <td>ኦሰ፡ኤጴስ፡ቆጰስ፡፲፪እስተ</td>\n",
       "    </tr>\n",
       "    <tr>\n",
       "      <th>2</th>\n",
       "      <td>test_rand_00002.png</td>\n",
       "      <td>የምንሰራው፡ብዙ፡በጎ፡ነገር</td>\n",
       "      <td>ዓምንስራዉ በዙ በጎ ነገር</td>\n",
       "      <td>ዓምንስራዉ በዙ በጎ ነገር</td>\n",
       "      <td>የምንሰራው ብዙ በጎ ነገር</td>\n",
       "      <td>ዓምንስራዉ በዙ በጎ ነገር</td>\n",
       "      <td>ይምንሰራው ብዙ በጎ ነገር</td>\n",
       "      <td>የምንሰራው ብዙ በጎ ነገር</td>\n",
       "      <td>ዓምንስራዉ በዙ በጎ ነገር</td>\n",
       "      <td>ይምንሰራው ብዙ በጎ ነገር</td>\n",
       "      <td>የምንሰራው ብንቲ በጎ ነገር</td>\n",
       "    </tr>\n",
       "    <tr>\n",
       "      <th>3</th>\n",
       "      <td>test_rand_00003.png</td>\n",
       "      <td>ገር፡ወይቤሎሙ፡ሙ፡አይቲ፡ሀሎ፡ከ</td>\n",
       "      <td>ገር።ወይቤሎሙ፡ሙ፡አይቲ፡ሀሎ፡ከ</td>\n",
       "      <td>ገር።ወይቤሎሙ፡ሙ፡አይቲ፡ሀሎ፡ከ</td>\n",
       "      <td>ገር። ወይቤሎሙ፡ ሙ፡ አይቲ፡ ሀሎ፡ከ</td>\n",
       "      <td>ገር።ወይቤሎሙ፡ሙ፡አይቲ፡ሀሎ፡ከ</td>\n",
       "      <td>ጌር።ወይቤሎሙ፡ሙ፡አይቲ፡ሀሎ፡ከ</td>\n",
       "      <td>ገር። ወይቤሎሙ፡ ሙ፡ አይቲ፡ ሀሎ፡ከ</td>\n",
       "      <td>ገር።ወይቤሎሙ፡ሙ፡አይቲ፡ሀሎ፡ከ</td>\n",
       "      <td>ጌር።ወይቤሎሙ፡ሙ፡አይቲ፡ሀሎ፡ከ</td>\n",
       "      <td>ጌር።ወይቤሎሙ፡ሙ፡አይቲ፡ሀሎ፡ከ</td>\n",
       "    </tr>\n",
       "    <tr>\n",
       "      <th>4</th>\n",
       "      <td>test_rand_00004.png</td>\n",
       "      <td>አብዩረኪ፡ርኩስ፡ወፈ</td>\n",
       "      <td>አብየረከ፡ርኩስ፡ወፈ</td>\n",
       "      <td>አብየረከ፡ርኩስ፡ወፈ</td>\n",
       "      <td>አብዩኒኪ፡ ርኩስ፡ ወፈ</td>\n",
       "      <td>አብየረከ፡ርኩስ፡ወፈ</td>\n",
       "      <td>አብየረኪ፡ርኩሰ፡ወፈ</td>\n",
       "      <td>አብዩኒኪ፡ ርኩስ፡ ወፈ</td>\n",
       "      <td>አብየረከ፡ርኩስ፡ወፈ</td>\n",
       "      <td>አብየረኪ፡ርኩሰ፡ወፈ</td>\n",
       "      <td>አብየረኪ፡ርኩሰ፡ወፈ</td>\n",
       "    </tr>\n",
       "  </tbody>\n",
       "</table>\n",
       "</div>"
      ],
      "text/plain": [
       "                 image                                              gt  \\\n",
       "0  test_rand_00000.png            ፅ፡ዳዊት፡፻፵፱፡ሰብሕዎ፡                        \n",
       "1  test_rand_00001.png  ኦሰ፡ኤጲሰ፡ቆጶስ፡፲፬እስተ                                 \n",
       "2  test_rand_00002.png  የምንሰራው፡ብዙ፡በጎ፡ነገር                                 \n",
       "3  test_rand_00003.png  ገር፡ወይቤሎሙ፡ሙ፡አይቲ፡ሀሎ፡ከ                              \n",
       "4  test_rand_00004.png  አብዩረኪ፡ርኩስ፡ወፈ                                     \n",
       "\n",
       "                    annot1                   annot2                   annot3  \\\n",
       "0  ፅ፡ ዳ ዊ ት፡፻ ፵ ፱፡ ሰ ብሕ ዎ፡  ፅ፡ ዳ ዊ ት፡፻ ፵ ፱፡ ሰ ብሕ ዎ፡     ፅ፡ ዳ ዊ ት፡ ፻፵፱፡ ሰብሐዎ፡   \n",
       "1         ኦስ፡ኢጲስ፡ቆጰስ፡፲፸አስተ         ኦስ፡ኢጲስ፡ቆጰስ፡፲፸አስተ         ኦስ፡ኤጲስ፡ቆጶስ፡፲፪አስተ   \n",
       "2         ዓምንስራዉ በዙ በጎ ነገር         ዓምንስራዉ በዙ በጎ ነገር         የምንሰራው ብዙ በጎ ነገር   \n",
       "3      ገር።ወይቤሎሙ፡ሙ፡አይቲ፡ሀሎ፡ከ      ገር።ወይቤሎሙ፡ሙ፡አይቲ፡ሀሎ፡ከ  ገር። ወይቤሎሙ፡ ሙ፡ አይቲ፡ ሀሎ፡ከ   \n",
       "4             አብየረከ፡ርኩስ፡ወፈ             አብየረከ፡ርኩስ፡ወፈ           አብዩኒኪ፡ ርኩስ፡ ወፈ   \n",
       "\n",
       "                annot4               annot5                   annot6  \\\n",
       "0    ፅ፡ዳዊት፡፻፵፱፡ ሰብሕ ዎ፡      ፅ፡ዳዊት፡፻፵፱፡ሰብሕዎ፡         ፅ፡ ዳዊት፡፻፵፱፡ ስብሕዎ   \n",
       "1     ኦስ፡ኢጲስ፡ቆጰስ፡፲፸አስተ     ኦሰ፡አጲስ፡ቆጶስ፡፲፪አስተ         ኦስ፡ኤጲስ፡ቆጶስ፡፲፪አስተ   \n",
       "2     ዓምንስራዉ በዙ በጎ ነገር     ይምንሰራው ብዙ በጎ ነገር         የምንሰራው ብዙ በጎ ነገር   \n",
       "3  ገር።ወይቤሎሙ፡ሙ፡አይቲ፡ሀሎ፡ከ  ጌር።ወይቤሎሙ፡ሙ፡አይቲ፡ሀሎ፡ከ  ገር። ወይቤሎሙ፡ ሙ፡ አይቲ፡ ሀሎ፡ከ   \n",
       "4         አብየረከ፡ርኩስ፡ወፈ         አብየረኪ፡ርኩሰ፡ወፈ           አብዩኒኪ፡ ርኩስ፡ ወፈ   \n",
       "\n",
       "                annot7               annot8               annot9  \n",
       "0  ፅ፡ ዳዊት፡ ፻፵፱፡ ሰብሕ ዎ፡     ፅ፡ዳዊት፡ ፩፵ሀ፡ሰብሕዎ፡      ፅ፡ደዊት፡፻፵ፅ፡ሰብሕዎ፡  \n",
       "1     ኦስ፡ኢጲስ፡ቆጰስ፡፲፸አስተ     ኦስ፡ኢጲስ፡ቆጶስ፡፲፪እስተ     ኦሰ፡ኤጴስ፡ቆጰስ፡፲፪እስተ  \n",
       "2     ዓምንስራዉ በዙ በጎ ነገር     ይምንሰራው ብዙ በጎ ነገር    የምንሰራው ብንቲ በጎ ነገር  \n",
       "3  ገር።ወይቤሎሙ፡ሙ፡አይቲ፡ሀሎ፡ከ  ጌር።ወይቤሎሙ፡ሙ፡አይቲ፡ሀሎ፡ከ  ጌር።ወይቤሎሙ፡ሙ፡አይቲ፡ሀሎ፡ከ  \n",
       "4         አብየረከ፡ርኩስ፡ወፈ         አብየረኪ፡ርኩሰ፡ወፈ         አብየረኪ፡ርኩሰ፡ወፈ  "
      ]
     },
     "execution_count": 3,
     "metadata": {},
     "output_type": "execute_result"
    }
   ],
   "source": [
    "df.head()"
   ]
  },
  {
   "cell_type": "code",
   "execution_count": 4,
   "metadata": {},
   "outputs": [
    {
     "data": {
      "text/html": [
       "<div>\n",
       "<style scoped>\n",
       "    .dataframe tbody tr th:only-of-type {\n",
       "        vertical-align: middle;\n",
       "    }\n",
       "\n",
       "    .dataframe tbody tr th {\n",
       "        vertical-align: top;\n",
       "    }\n",
       "\n",
       "    .dataframe thead th {\n",
       "        text-align: right;\n",
       "    }\n",
       "</style>\n",
       "<table border=\"1\" class=\"dataframe\">\n",
       "  <thead>\n",
       "    <tr style=\"text-align: right;\">\n",
       "      <th></th>\n",
       "      <th>image</th>\n",
       "      <th>gt</th>\n",
       "      <th>annot1</th>\n",
       "      <th>annot2</th>\n",
       "      <th>annot3</th>\n",
       "      <th>annot4</th>\n",
       "    </tr>\n",
       "  </thead>\n",
       "  <tbody>\n",
       "    <tr>\n",
       "      <th>0</th>\n",
       "      <td>test_18th_00000.png</td>\n",
       "      <td>ወትብሊ፡ረዳኤቶምሙ፡በሲኦል፡እምክብር፡</td>\n",
       "      <td>ወትብሊ፡ረድኤቶሙ፡በሰ</td>\n",
       "      <td>ወትብሊ፡ረድኤቶሙ፡በሰ</td>\n",
       "      <td>ወትበሊ ረድኤቶሙ፡ በሰ</td>\n",
       "      <td>ወትቢሊ፡ረዳኤቶሙ፡በሰ</td>\n",
       "    </tr>\n",
       "    <tr>\n",
       "      <th>1</th>\n",
       "      <td>test_18th_00001.png</td>\n",
       "      <td>በበ፡በሐውርቲክሙ፡ደቂቀ፡እጓለ፡እመሕያዉ፡</td>\n",
       "      <td>በበ፡በሐውርቱክሙ፡ደቁቀ</td>\n",
       "      <td>በበ፡በሐውርቱክሙ፡ደቁቀ</td>\n",
       "      <td>በበ፡ በሐውርቲከሙ፡ ደቂቀ</td>\n",
       "      <td>በበ=ብሕውርቲክሙ፡ደቁቂ</td>\n",
       "    </tr>\n",
       "    <tr>\n",
       "      <th>2</th>\n",
       "      <td>test_18th_00002.png</td>\n",
       "      <td>አብዕልትኒ፡ወነዳይኒ፡አፉየ፡ይነግር፡ጥበበ፡</td>\n",
       "      <td>አብዕልትኒ፡ወነዳይኒ፡አፋ</td>\n",
       "      <td>አብዕልትኒ፡ወነዳይኒ፡አፋ</td>\n",
       "      <td>አብዕልትኒ፡ ወነዳይኒ፡ አፉ</td>\n",
       "      <td>አብዕልትኒ፡ወነዳይኒ፡አፋ</td>\n",
       "    </tr>\n",
       "    <tr>\n",
       "      <th>3</th>\n",
       "      <td>test_18th_00003.png</td>\n",
       "      <td>ወሕሊና፡ልብየ፡ምክረ፡አጸም፡ምሳሌ፡በ፡</td>\n",
       "      <td>ወሕሊፍልብየ፡ምክረ።አከ</td>\n",
       "      <td>ወሕሊፍልብየ፡ምክረ።አከ</td>\n",
       "      <td>ወሕሊና ልብየ፡ ምክረ፡ እከ</td>\n",
       "      <td>ወሕሊፍ፡ልብየ፡ምክረ፡፡አእ</td>\n",
       "    </tr>\n",
       "    <tr>\n",
       "      <th>4</th>\n",
       "      <td>test_18th_00004.png</td>\n",
       "      <td>ዕዝንየ፡ወእከሥት፡በመዝሙር፡ነገርየ።፡</td>\n",
       "      <td>ዕዘንየ።ወእከሥትበመዝ</td>\n",
       "      <td>ዕዘንየ።ወእከሥትበመዝ</td>\n",
       "      <td>ዕዝኘ። ወእከሥት በውዝ</td>\n",
       "      <td>ዕዝን የ፡፡ወእሥት፡በሙዘ</td>\n",
       "    </tr>\n",
       "  </tbody>\n",
       "</table>\n",
       "</div>"
      ],
      "text/plain": [
       "                  image                                               gt  \\\n",
       "0  test_18th_00000.png   ወትብሊ፡ረዳኤቶምሙ፡በሲኦል፡እምክብር፡                           \n",
       "1  test_18th_00001.png   በበ፡በሐውርቲክሙ፡ደቂቀ፡እጓለ፡እመሕያዉ፡                         \n",
       "2  test_18th_00002.png   አብዕልትኒ፡ወነዳይኒ፡አፉየ፡ይነግር፡ጥበበ፡                        \n",
       "3  test_18th_00003.png   ወሕሊና፡ልብየ፡ምክረ፡አጸም፡ምሳሌ፡በ፡                           \n",
       "4  test_18th_00004.png   ዕዝንየ፡ወእከሥት፡በመዝሙር፡ነገርየ።፡                           \n",
       "\n",
       "            annot1           annot2             annot3            annot4  \n",
       "0    ወትብሊ፡ረድኤቶሙ፡በሰ    ወትብሊ፡ረድኤቶሙ፡በሰ     ወትበሊ ረድኤቶሙ፡ በሰ     ወትቢሊ፡ረዳኤቶሙ፡በሰ  \n",
       "1   በበ፡በሐውርቱክሙ፡ደቁቀ   በበ፡በሐውርቱክሙ፡ደቁቀ   በበ፡ በሐውርቲከሙ፡ ደቂቀ    በበ=ብሕውርቲክሙ፡ደቁቂ  \n",
       "2  አብዕልትኒ፡ወነዳይኒ፡አፋ  አብዕልትኒ፡ወነዳይኒ፡አፋ  አብዕልትኒ፡ ወነዳይኒ፡ አፉ   አብዕልትኒ፡ወነዳይኒ፡አፋ  \n",
       "3   ወሕሊፍልብየ፡ምክረ።አከ   ወሕሊፍልብየ፡ምክረ።አከ  ወሕሊና ልብየ፡ ምክረ፡ እከ  ወሕሊፍ፡ልብየ፡ምክረ፡፡አእ  \n",
       "4    ዕዘንየ።ወእከሥትበመዝ    ዕዘንየ።ወእከሥትበመዝ     ዕዝኘ። ወእከሥት በውዝ   ዕዝን የ፡፡ወእሥት፡በሙዘ  "
      ]
     },
     "execution_count": 4,
     "metadata": {},
     "output_type": "execute_result"
    }
   ],
   "source": [
    "df_18.head()"
   ]
  },
  {
   "cell_type": "code",
   "execution_count": 6,
   "metadata": {},
   "outputs": [],
   "source": [
    "#19 and 20\n",
    "#charcter error rate(CER)\n",
    "import editdistance\n",
    "def calc_error(gt_text, pred_text):\n",
    "    cer = 0\n",
    "    for (i, j) in zip(gt_text, pred_text):\n",
    "        x = editdistance.eval(i, j)\n",
    "        cer = cer + x\n",
    "    err_all = cer\n",
    "    \n",
    "    x = 0\n",
    "    for i in range(len(gt_text)):\n",
    "        x = x + len(gt_text[i])\n",
    "    totalchar = x\n",
    "    \n",
    "    cerp = (float(err_all) / totalchar) * 100\n",
    "\n",
    "    return cerp\n",
    "\n",
    "cer_list = [] #to stor the CER of each annotator prediction with respect to the gt\n",
    "gt_text = df['gt'].str.strip().tolist()\n",
    "for col in df.columns:\n",
    "    if col not in ['image', 'gt']:\n",
    "        pred_texts = df[col].astype(str).str.strip().tolist()\n",
    "        cer_value = calc_error(gt_text, pred_texts)# compu the erro using calc_error with edit distance function\n",
    "        cer_list.append(cer_value)"
   ]
  },
  {
   "cell_type": "code",
   "execution_count": 7,
   "metadata": {},
   "outputs": [
    {
     "name": "stdout",
     "output_type": "stream",
     "text": [
      "[29.02, 29.16, 29.93, 27.87, 26.56, 25.39, 29.26, 25.95, 51.03]\n"
     ]
    }
   ],
   "source": [
    "cer_list = [round(cer_value, 2) for cer_value in cer_list]\n",
    "print(cer_list)"
   ]
  },
  {
   "cell_type": "markdown",
   "metadata": {},
   "source": [
    "Normalized edit distance (NED):\n",
    "\n",
    "\n",
    "$$\\text{NED} = 1 - \\frac{1}{N} \\sum_{i=1}^{N} \\frac{ED(s_i, \\hat{s}_i)}{\\max(l_i, \\hat{l}_i)})\\times 100$$\n",
    "\n",
    "\n",
    "where N is the maximum number of paired ground truth and predictions, `ED` is the Levenshtein edit distance, `si` and `s^i` denote the predicted text and the corresponding ground truth (GT) string, respectively, and `li` and `l^i` are their respective text lengths."
   ]
  },
  {
   "cell_type": "code",
   "execution_count": 12,
   "metadata": {},
   "outputs": [],
   "source": [
    "#Normalized edit Distance(NED)\n",
    "import editdistance\n",
    "def calc_ned(gt_text, pred_text):\n",
    "    sum_ned=0\n",
    "    for(i,j) in zip(gt_text,pred_text):\n",
    "       x=float((editdistance.eval(i,j))/max(len(i),len(j)))\n",
    "       sum_ned=sum_ned+x\n",
    "    err = sum_ned\n",
    "    \n",
    "    N = len(gt_text)\n",
    "    ned=(1.0-(err/N))*100\n",
    "\n",
    "    return ned\n",
    "\n",
    "\n",
    "ned_error = [] #to stor the NED of each annotator prediction with respect to the gt\n",
    "gt_text = df['gt'].str.strip().tolist()\n",
    "for col in df.columns:\n",
    "    if col not in ['image', 'gt']:\n",
    "        pred_texts = df[col].astype(str).str.strip().tolist()\n",
    "        cer_value = calc_ned(gt_text, pred_texts)# compu the erro using calc_error with edit distance function\n",
    "        ned_error.append(cer_value)"
   ]
  },
  {
   "cell_type": "code",
   "execution_count": 13,
   "metadata": {},
   "outputs": [
    {
     "name": "stdout",
     "output_type": "stream",
     "text": [
      "[72.33, 72.2, 71.84, 74.11, 75.44, 76.22, 71.92, 75.22, 74.54]\n"
     ]
    }
   ],
   "source": [
    "# normalized edit distance 19/20th\n",
    "ned_list = [round(cer_value, 2) for cer_value in ned_error]\n",
    "print(ned_list)"
   ]
  },
  {
   "cell_type": "code",
   "execution_count": 8,
   "metadata": {},
   "outputs": [],
   "source": [
    "#18th cent\n",
    "def calc_error(gt_text_18, pred_text):\n",
    "    cer = 0\n",
    "    for (i, j) in zip(gt_text_18, pred_text):\n",
    "        x = editdistance.eval(i, j)\n",
    "        cer = cer + x\n",
    "    err_all = cer\n",
    "    \n",
    "    x = 0\n",
    "    for i in range(len(gt_text_18)):\n",
    "        x = x + len(gt_text_18[i])\n",
    "    totalchar = x\n",
    "    \n",
    "    cerp = (float(err_all) / totalchar) * 100\n",
    "\n",
    "    return cerp\n",
    "\n",
    "cer_list_18 = [] #to stor the CER of each annotator prediction with respect to the gt\n",
    "gt_text_18 = df_18['gt'].str.strip().tolist()\n",
    "for col in df_18.columns:\n",
    "    if col not in ['image', 'gt']:\n",
    "        pred_texts = df_18[col].astype(str).str.strip().tolist()\n",
    "        cer_value = calc_error(gt_text_18, pred_texts)# comput the erro using calc_error with edit distance function\n",
    "        cer_list_18.append(cer_value)"
   ]
  },
  {
   "cell_type": "code",
   "execution_count": 9,
   "metadata": {},
   "outputs": [
    {
     "name": "stdout",
     "output_type": "stream",
     "text": [
      "[54.33, 33.2, 39.96, 45.06]\n"
     ]
    }
   ],
   "source": [
    "cer_list_18 = [round(cer_value, 2) for cer_value in cer_list_18]\n",
    "print(cer_list_18)"
   ]
  },
  {
   "cell_type": "markdown",
   "metadata": {},
   "source": [
    "Normalized edit distance (NED):\n",
    "\n",
    "\n",
    "$$\\text{NED} = 1 - \\frac{1}{N} \\sum_{i=1}^{N} \\frac{ED(s_i, \\hat{s}_i)}{\\max(l_i, \\hat{l}_i)})\\times 100$$\n",
    "\n",
    "\n",
    "where N is the maximum number of paired ground truth and predictions, `ED` is the Levenshtein edit distance, `si` and `s^i` denote the predicted text and the corresponding ground truth (GT) string, respectively, and `li` and `l^i` are their respective text lengths."
   ]
  },
  {
   "cell_type": "code",
   "execution_count": 23,
   "metadata": {},
   "outputs": [],
   "source": [
    "#Normalized edit Distance(NED)\n",
    "import editdistance\n",
    "def calc_ned_18th(gt_text_18, pred_text):\n",
    "    sum_ned=0\n",
    "    for(i,j) in zip(gt_text_18,pred_text):\n",
    "       x=float((editdistance.eval(i,j))/max(len(i),len(j)))\n",
    "       sum_ned=sum_ned+x\n",
    "    err = sum_ned\n",
    "    \n",
    "    N = len(gt_text_18)\n",
    "    ned=(1.0-(err/N))*100\n",
    "\n",
    "    return ned\n",
    "\n",
    "\n",
    "ned_error = [] #to stor the NED of each annotator prediction with respect to the gt\n",
    "gt_text_18 = df_18['gt'].str.strip().tolist()\n",
    "for col in df_18.columns:\n",
    "    if col not in ['image', 'gt']:\n",
    "        pred_texts = df_18[col].astype(str).str.strip().tolist()\n",
    "        cer_value = calc_ned_18th(gt_text_18, pred_texts)# compu the erro using calc_error with edit distance function\n",
    "        ned_error.append(cer_value)"
   ]
  },
  {
   "cell_type": "code",
   "execution_count": 33,
   "metadata": {},
   "outputs": [
    {
     "name": "stdout",
     "output_type": "stream",
     "text": [
      "[52.2, 69.23, 64.1, 60.11]\n"
     ]
    }
   ],
   "source": [
    "# normalized edit distance 18th\n",
    "ned_list = [round(cer_value, 2) for cer_value in ned_error]\n",
    "print(ned_list)"
   ]
  },
  {
   "cell_type": "code",
   "execution_count": null,
   "metadata": {},
   "outputs": [],
   "source": []
  }
 ],
 "metadata": {
  "kernelspec": {
   "display_name": "Python 2",
   "language": "python",
   "name": "python2"
  },
  "language_info": {
   "codemirror_mode": {
    "name": "ipython",
    "version": 3
   },
   "file_extension": ".py",
   "mimetype": "text/x-python",
   "name": "python",
   "nbconvert_exporter": "python",
   "pygments_lexer": "ipython3",
   "version": "3.5.2"
  }
 },
 "nbformat": 4,
 "nbformat_minor": 4
}
