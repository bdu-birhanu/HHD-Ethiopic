{
  "nbformat": 4,
  "nbformat_minor": 0,
  "metadata": {
    "colab": {
      "provenance": [],
      "collapsed_sections": [
        "s-Wwk3MyDZoj"
      ],
      "toc_visible": true,
      "authorship_tag": "ABX9TyNhC1ZFQncb929aqj0Rf8MA",
      "include_colab_link": true
    },
    "kernelspec": {
      "name": "python3",
      "display_name": "Python 3"
    },
    "language_info": {
      "name": "python"
    },
    "accelerator": "GPU",
    "gpuClass": "standard"
  },
  "cells": [
    {
      "cell_type": "markdown",
      "metadata": {
        "id": "view-in-github",
        "colab_type": "text"
      },
      "source": [
        "<a href=\"https://colab.research.google.com/github/bdu-birhanu/HHD-Ethiopic/blob/main/demo_Plain_CTC.ipynb\" target=\"_parent\"><img src=\"https://colab.research.google.com/assets/colab-badge.svg\" alt=\"Open In Colab\"/></a>"
      ]
    },
    {
      "cell_type": "markdown",
      "source": [
        "# Download the Test Data  and Model\n",
        " This section demonstrates the process of downloading the test data  and model and evaluating its performance. Follow the steps below:"
      ],
      "metadata": {
        "id": "V0MqYzYe_bn8"
      }
    },
    {
      "cell_type": "code",
      "source": [
        "import editdistance\n",
        "import tensorflow as tf\n",
        "from keras import backend as K\n",
        "import cv2\n"
      ],
      "metadata": {
        "id": "M8iG-5zQCCui"
      },
      "execution_count": 3,
      "outputs": []
    },
    {
      "cell_type": "code",
      "execution_count": null,
      "metadata": {
        "id": "Np669i8l8tC8"
      },
      "outputs": [],
      "source": [
        "from google.colab import drive\n",
        "import requests\n",
        "import zipfile\n",
        "import os\n",
        "# Mount your Google Drive\n",
        "drive.mount('/content/drive')\n"
      ]
    },
    {
      "cell_type": "markdown",
      "source": [
        "### Download the Testset\n",
        "Use the following code to download the test data ( data randomly selectd from the training set)from the Hugging face. Please follow the same step if your are interested withe second test dataset.  And extrct them in to a path as the dataset is in zip file."
      ],
      "metadata": {
        "id": "luuDUfPWA_-p"
      }
    },
    {
      "cell_type": "code",
      "source": [
        "import requests\n",
        "import zipfile\n",
        "import numpy as np\n",
        "\n",
        "# Download the zip file from Hugging Face (when coping ht elink just replace \"blob\" by \"resolve\" so as to reference the file contents.)\n",
        "url= \"https://huggingface.co/datasets/OCR-Ethiopic/HHD-Ethiopic/resolve/main/test/test_rand/test_rand_numpy.zip\"\n",
        "response = requests.get(url)\n",
        "\n",
        "# Save the zip file\n",
        "zip_path = \"/content/test_rand_numpy.zip\"\n",
        "with open(zip_path, \"wb\") as file:\n",
        "    file.write(response.content)\n",
        "\n",
        "# Extract the zip file\n",
        "extract_path = \"/content/test\"\n",
        "with zipfile.ZipFile(zip_path, \"r\") as zip_ref:\n",
        "    zip_ref.extractall(extract_path)\n",
        "\n",
        "# Load the numpy file from the path we extracted\n",
        "import numpy as np\n",
        "x_test_rand= np.load('/content/test/test_rand_numpy/x_test_rand.npy',allow_pickle=True)\n",
        "y_test_rand= np.load('/content/test/test_rand_numpy/y_test_rand.npy',allow_pickle=True)"
      ],
      "metadata": {
        "id": "BQ6pVu69OKxo"
      },
      "execution_count": 5,
      "outputs": []
    },
    {
      "cell_type": "code",
      "source": [
        "x_test_rand.shape"
      ],
      "metadata": {
        "colab": {
          "base_uri": "https://localhost:8080/"
        },
        "id": "tC7WI3wHPeaP",
        "outputId": "ff808208-00e0-4ea7-a581-d11ee3a15f95"
      },
      "execution_count": 6,
      "outputs": [
        {
          "output_type": "execute_result",
          "data": {
            "text/plain": [
              "(6375,)"
            ]
          },
          "metadata": {},
          "execution_count": 6
        }
      ]
    },
    {
      "cell_type": "markdown",
      "source": [
        "\n",
        "\n",
        "### Image size normalization\n",
        "Normalize the image to 48 by 368, keeping the aspect-ratio."
      ],
      "metadata": {
        "id": "s-Wwk3MyDZoj"
      }
    },
    {
      "cell_type": "code",
      "source": [
        "im_row=48\n",
        "im_col=368\n",
        "def resize(x_image):\n",
        "\n",
        "\n",
        "    resized_x_rand = np.zeros((len(x_image), im_row, im_col), dtype=np.uint8)\n",
        "\n",
        "    # loop over the input images\n",
        "    for i, image in enumerate(x_image):\n",
        "        # resize the image to 48 by 368 using padding\n",
        "        current_height, current_width = image.shape[:2]\n",
        "        aspect_ratio_current = current_width / current_height\n",
        "        aspect_ratio_target = im_col / im_row\n",
        "        if aspect_ratio_current != aspect_ratio_target:\n",
        "            if aspect_ratio_current > aspect_ratio_target:\n",
        "                new_height = int(current_width / aspect_ratio_target)\n",
        "                top_padding = (new_height - current_height) // 2\n",
        "                bottom_padding = new_height - current_height - top_padding\n",
        "                padded_image = cv2.copyMakeBorder(image, top_padding, bottom_padding, 0, 0, cv2.BORDER_CONSTANT, value=255)\n",
        "            else:\n",
        "                new_width = int(current_height * aspect_ratio_target)\n",
        "                left_padding = (new_width - current_width) // 2\n",
        "                right_padding = new_width - current_width - left_padding\n",
        "                padded_image = cv2.copyMakeBorder(image, 0, 0, 0, right_padding+left_padding, cv2.BORDER_CONSTANT, value=255)\n",
        "        else:\n",
        "            padded_image = image\n",
        "        resized_image = cv2.resize(padded_image, (im_col, im_row))\n",
        "\n",
        "        resized_x_rand[i] = resized_image\n",
        "\n",
        "    return resized_x_rand"
      ],
      "metadata": {
        "id": "xgIDxNgUC_2R"
      },
      "execution_count": 7,
      "outputs": []
    },
    {
      "cell_type": "code",
      "source": [
        "x_test_rand_resized= resize(x_test_rand)"
      ],
      "metadata": {
        "id": "_cw-4EUwDjip"
      },
      "execution_count": 8,
      "outputs": []
    },
    {
      "cell_type": "markdown",
      "source": [
        "Visualizie a sample resized image"
      ],
      "metadata": {
        "id": "krVunqBnJZGZ"
      }
    },
    {
      "cell_type": "code",
      "source": [
        "import matplotlib.pyplot as plt \n",
        "plt.imshow(x_test_rand[1400], cmap='gray')\n",
        "plt.xticks([])\n",
        "plt.yticks([])\n",
        "plt.gca().spines['left'].set_visible(True)  # Show left border line\n",
        "plt.gca().spines['right'].set_visible(True)  # Hide right border line\n",
        "plt.gca().spines['top'].set_visible(True)  # Hide top border line\n",
        "plt.gca().spines['bottom'].set_visible(True)  # Show bottom border line\n",
        "plt.show()"
      ],
      "metadata": {
        "id": "EX0Qt7u-ofFr",
        "colab": {
          "base_uri": "https://localhost:8080/",
          "height": 79
        },
        "outputId": "43d74167-c3a6-42cd-a6f4-25d0ad11b597"
      },
      "execution_count": 9,
      "outputs": [
        {
          "output_type": "display_data",
          "data": {
            "text/plain": [
              "<Figure size 640x480 with 1 Axes>"
            ],
            "image/png": "[encoded data removed]"
          },
          "metadata": {}
        }
      ]
    },
    {
      "cell_type": "code",
      "source": [
        " #dictionary used to decode the numeric predictions to text\n",
        "dict_eth={1: 'ሀ', 2: 'ሁ', 3: 'ሂ', 4: 'ሃ', 5: 'ሄ', 6: 'ህ', 7: 'ሆ', 8: 'ለ', 9: 'ሉ', 10: 'ሊ', 11: 'ላ', 12: 'ሌ', 13: 'ል', 14: 'ሎ', 15: 'ሏ', 16: 'ሐ', 17: 'ሑ', 18: 'ሒ', 19: 'ሓ', 20: 'ሔ', 21: 'ሕ', 22: 'ሖ', 23: 'መ', 24: 'ሙ', 25: 'ሚ', 26: 'ማ', 27: 'ሜ', 28: 'ም', 29: 'ሞ', 30: 'ሟ', 31: 'ሠ', 32: 'ሡ', 33: 'ሢ', 34: 'ሣ', 35: 'ሤ', 36: 'ሥ', 37: 'ሦ', 38: 'ረ', 39: 'ሩ', 40: 'ሪ', 41: 'ራ', 42: 'ሬ', 43: 'ር', 44: 'ሮ', 45: 'ሯ', 46: 'ሰ', 47: 'ሱ', 48: 'ሲ', 49: 'ሳ', 50: 'ሴ', 51: 'ስ', 52: 'ሶ', 53: 'ሷ', 54: 'ሸ', 55: 'ሹ', 56: 'ሺ', 57: 'ሻ', 58: 'ሼ', 59: 'ሽ', 60: 'ሾ', 61: 'ሿ', 62: 'ቀ', 63: 'ቁ', 64: 'ቂ', 65: 'ቃ', 66: 'ቄ', 67: 'ቅ', 68: 'ቆ', 69: 'ቈ', 70: 'ቊ', 71: 'ቋ', 72: 'ቍ', 73: 'በ', 74: 'ቡ', 75: 'ቢ', 76: 'ባ', 77: 'ቤ', 78: 'ብ', 79: 'ቦ', 80: 'ቧ', 81: 'ቨ', 82: 'ቩ', 83: 'ቪ', 84: 'ቫ', 85: 'ቬ', 86: 'ቭ', 87: 'ቮ', 88: 'ተ', 89: 'ቱ', 90: 'ቲ', 91: 'ታ', 92: 'ቴ', 93: 'ት', 94: 'ቶ', 95: 'ቷ', 96: 'ቸ', 97: 'ቹ', 98: 'ቺ', 99: 'ቻ', 100: 'ቼ', 101: 'ች', 102: 'ቾ', 103: 'ቿ', 104: 'ኀ', 105: 'ኁ', 106: 'ኂ', 107: 'ኃ', 108: 'ኄ', 109: 'ኅ', 110: 'ኆ', 111: 'ኈ', 112: 'ኊ', 113: 'ኋ', 114: 'ኍ', 115: 'ነ', 116: 'ኑ', 117: 'ኒ', 118: 'ና', 119: 'ኔ', 120: 'ን', 121: 'ኖ', 122: 'ኗ', 123: 'ኘ', 124: 'ኙ', 125: 'ኚ', 126: 'ኛ', 127: 'ኜ', 128: 'ኝ', 129: 'ኞ', 130: 'ኟ', 131: 'አ', 132: 'ኡ', 133: 'ኢ', 134: 'ኣ', 135: 'ኤ', 136: 'እ', 137: 'ኦ', 138: 'ኧ', 139: 'ከ', 140: 'ኩ', 141: 'ኪ', 142: 'ካ', 143: 'ኬ', 144: 'ክ', 145: 'ኮ', 146: 'ኰ', 147: 'ኲ', 148: 'ኳ', 149: 'ኴ', 150: 'ኵ', 151: 'ኸ', 152: 'ኹ', 153: 'ኺ', 154: 'ኻ', 155: 'ኼ', 156: 'ኽ', 157: 'ኾ', 158: 'ወ', 159: 'ዉ', 160: 'ዊ', 161: 'ዋ', 162: 'ዌ', 163: 'ው', 164: 'ዎ', 165: 'ዏ', 166: 'ዐ', 167: 'ዑ', 168: 'ዒ', 169: 'ዓ', 170: 'ዔ', 171: 'ዕ', 172: 'ዖ', 173: 'ዘ', 174: 'ዙ', 175: 'ዚ', 176: 'ዛ', 177: 'ዜ', 178: 'ዝ', 179: 'ዞ', 180: 'ዟ', 181: 'ዠ', 182: 'ዡ', 183: 'ዢ', 184: 'ዣ', 185: 'ዤ', 186: 'ዥ', 187: 'ዦ', 188: 'የ', 189: 'ዩ', 190: 'ዪ', 191: 'ያ', 192: 'ዬ', 193: 'ይ', 194: 'ዮ', 195: 'ደ', 196: 'ዱ', 197: 'ዲ', 198: 'ዳ', 199: 'ዴ', 200: 'ድ', 201: 'ዶ', 202: 'ዷ', 203: 'ዿ', 204: 'ጀ', 205: 'ጁ', 206: 'ጂ', 207: 'ጃ', 208: 'ጄ', 209: 'ጅ', 210: 'ጆ', 211: 'ጇ', 212: 'ገ', 213: 'ጉ', 214: 'ጊ', 215: 'ጋ', 216: 'ጌ', 217: 'ግ', 218: 'ጎ', 219: 'ጐ', 220: 'ጒ', 221: 'ጓ', 222: 'ጔ', 223: 'ጕ', 224: 'ጠ', 225: 'ጡ', 226: 'ጢ', 227: 'ጣ', 228: 'ጤ', 229: 'ጥ', 230: 'ጦ', 231: 'ጧ', 232: 'ጨ', 233: 'ጩ', 234: 'ጪ', 235: 'ጫ', 236: 'ጬ', 237: 'ጭ', 238: 'ጮ', 239: 'ጯ', 240: 'ጰ', 241: 'ጱ', 242: 'ጲ', 243: 'ጳ', 244: 'ጴ', 245: 'ጵ', 246: 'ጶ', 247: 'ጸ', 248: 'ጹ', 249: 'ጺ', 250: 'ጻ', 251: 'ጼ', 252: 'ጽ', 253: 'ጾ', 254: 'ጿ', 255: 'ፀ', 256: 'ፁ', 257: 'ፂ', 258: 'ፃ', 259: 'ፄ', 260: 'ፅ', 261: 'ፆ', 262: 'ፈ', 263: 'ፉ', 264: 'ፊ', 265: 'ፋ', 266: 'ፌ', 267: 'ፍ', 268: 'ፎ', 269: 'ፏ', 270: 'ፐ', 271: 'ፑ', 272: 'ፒ', 273: 'ፓ', 274: 'ፔ', 275: 'ፕ', 276: 'ፖ', 277: 'ፚ', 278: '፠', 279: '፡', 280: '።', 281: '፣', 282: '፤', 283: '፥', 284: '፦', 285: '፨', 286: '፩', 287: '፪', 288: '፫', 289: '፬', 290: '፭', 291: '፮', 292: '፯', 293: '፰', 294: '፱', 295: '፲', 296: '፳', 297: '፴', 298: '፵', 299: '፶', 300: '፷', 301: '፸', 302: '፹', 303: '፺', 304: '፻', 305: '፼', 306: ' '}"
      ],
      "metadata": {
        "id": "soveRiql-1Nq"
      },
      "execution_count": 10,
      "outputs": []
    },
    {
      "cell_type": "code",
      "source": [
        "k=[]\n",
        "for i,j in dict_eth.items():\n",
        "  k.append(j)\n",
        "print(k)"
      ],
      "metadata": {
        "id": "xZ3LKjEwh-B7"
      },
      "execution_count": null,
      "outputs": []
    },
    {
      "cell_type": "markdown",
      "source": [
        "### Load the pretrained Model:\n",
        " After downloading the test data and preporfces it, load the one of the pretrained Ethiopic OCR model from github repository as follows."
      ],
      "metadata": {
        "id": "XXuF_2boCop1"
      }
    },
    {
      "cell_type": "code",
      "source": [
        "%pip install wget\n",
        "import wget\n",
        "import tensorflow as tf\n",
        "\n",
        "m_url = \"https://github.com/bdu-birhanu/HHD-Ethiopic/raw/main/hhd-ethiopic/model_belened_CTC_deephyper_0.hdf5\"\n",
        "m_path = \"model_belened_CTC_deephyper_0.hdf5\"\n",
        "# Download the model file\n",
        "wget.download(m_url, m_path)\n",
        "\n",
        "model = tf.keras.models.load_model(m_path, custom_objects={'Functional': tf.keras.models.Model})\n",
        "\n",
        "model.summary()\n",
        "# model= tf.keras.models.load_model(\n",
        "#     '/content/drive/MyDrive/Code_2023/model/model_belened_CTC_deephyper_0.hdf5',\n",
        "#     custom_objects={'Functional':tf.keras.models.Model})\n",
        "\n",
        "# model.summary()"
      ],
      "metadata": {
        "id": "j0c7BufccYKG"
      },
      "execution_count": null,
      "outputs": []
    },
    {
      "cell_type": "markdown",
      "source": [
        "### Visualize the Results\n",
        " Use the loaded model and test data to generate predictions."
      ],
      "metadata": {
        "id": "RCEzmFsZETCQ"
      }
    },
    {
      "cell_type": "code",
      "source": [
        "y_pred=model.predict(x_test_rand_resized)"
      ],
      "metadata": {
        "colab": {
          "base_uri": "https://localhost:8080/"
        },
        "id": "3eHtafkmCqSe",
        "outputId": "e5ca0a89-46b4-4758-97cd-5afbeeb17ba8"
      },
      "execution_count": 14,
      "outputs": [
        {
          "output_type": "stream",
          "name": "stdout",
          "text": [
            "200/200 [==============================] - 19s 17ms/step\n"
          ]
        }
      ]
    },
    {
      "cell_type": "markdown",
      "source": [
        "### CTC Decoder\n",
        "\n",
        "employing the CTC decoder to generate the actual text  using the probablities collcted from the model prediction"
      ],
      "metadata": {
        "id": "rVKQhw8sEw9T"
      }
    },
    {
      "cell_type": "code",
      "source": [
        "y_decode = K.get_value(K.ctc_decode(y_pred[:, :, :], input_length=np.ones(y_pred.shape[0]) * y_pred.shape[1])[0][0])\n"
      ],
      "metadata": {
        "id": "TGK-8WqvFfKl"
      },
      "execution_count": 15,
      "outputs": []
    },
    {
      "cell_type": "markdown",
      "source": [
        "### Compute Character Error Rate(CER)\n",
        " Calculate the CER to evaluate the accuracy of the model's predictions using editdistance.\n"
      ],
      "metadata": {
        "id": "lL1Ul7mbFfTG"
      }
    },
    {
      "cell_type": "code",
      "source": [
        "true = []  # to stor value of character by removing zero which was padded previously and also this is the value of newline in the test label\n",
        "for i in range(len(y_test_rand)):\n",
        "    x = [j for j in y_test_rand[i] if j != 0]\n",
        "    true.append(x)\n",
        "\n",
        "\n",
        "pred=[]\n",
        "# to stor the predicted charcter except zerro and -1 which are padded value nad blank space predicted during testing\n",
        "for i in range(len(y_decode)):\n",
        "    x=[j for j in y_decode[i] if j not in(0,-1)]\n",
        "    pred.append(x)\n",
        "\n",
        "cer=0\n",
        "for(i,j) in zip(true,pred):\n",
        "    x=editdistance.eval(i,j)\n",
        "    cer=cer+x\n",
        "err=cer\n",
        "x=0\n",
        "for i in range(len(true)):\n",
        "    x=x+len(true[i])\n",
        "totalchar=x\n",
        "cerp=(float(err)/totalchar)*100\n",
        "print(\"The CER of random test set:\", cerp)\n"
      ],
      "metadata": {
        "colab": {
          "base_uri": "https://localhost:8080/"
        },
        "id": "HoLQWoL7IDY2",
        "outputId": "94282ebd-6721-41b4-a171-db78772352e7"
      },
      "execution_count": 17,
      "outputs": [
        {
          "output_type": "stream",
          "name": "stdout",
          "text": [
            "The CER of random test set: 16.396747605257296\n"
          ]
        }
      ]
    },
    {
      "cell_type": "markdown",
      "source": [
        "###  Visualize the Image Ground-Truth and Predictions\n",
        "\n",
        "To gain insights into the model's performance, it's essential to visualize the image, the ground-truth and corresponding predictions.  See th below resUlts which we provide following these steps.\n",
        "\n",
        "1. **Load the Image and Ground-Truth Data**: Loading the image data and the corresponding ground-truth labels as sescribed above. \n",
        "2. **Generate Predictions**: Use the trained model to generate predictions for the loaded image data. \n",
        "\n",
        "3. **Visualize the Image, Ground-Truth and Predictions**:  ground-truth on the left prediction on the right and the images are at the bottom respectivly."
      ],
      "metadata": {
        "id": "w8cYFfJoZxj2"
      }
    },
    {
      "cell_type": "code",
      "source": [
        "k=1005\n",
        "b=1010\n",
        "\n",
        "\n",
        "char_list_true= [[dict_eth[i] for i in text] for text in true]\n",
        "\n",
        "text_list_true = [''.join(row) for row in char_list_true]\n",
        "\n",
        "char_list_pred = [[dict_eth[i] for i in text] for text in pred]\n",
        "\n",
        "text_list_pred = [''.join(row) for row in char_list_pred]\n",
        "\n",
        "print(f'{\"Ground-truth Texts\":<30} Prediction Texts')\n",
        "for i, j in zip(text_list_true[k:b], text_list_pred[k:b]):\n",
        "\n",
        "    print(f'{(\"\".join(i)):<30} {(\"\".join(j))}')\n",
        "# Print the text\n",
        "# print('\\n'.join(text_list[:5]))\n",
        "\n",
        "for i in range(k,b):\n",
        "    fig = plt.figure(figsize=(5, 2))\n",
        "    plt.imshow(x_test_rand[i], cmap='gray')\n",
        "    plt.xticks([])\n",
        "    plt.yticks([])\n",
        "    plt.gca().spines['left'].set_visible(True)  # Show left border line\n",
        "    plt.gca().spines['right'].set_visible(True)  # Hide right border line\n",
        "    plt.gca().spines['top'].set_visible(True)  # Hide top border line\n",
        "    plt.gca().spines['bottom'].set_visible(True)  # Show bottom border line\n",
        "    #plt.axis('off')\n",
        "    plt.show()"
      ],
      "metadata": {
        "colab": {
          "base_uri": "https://localhost:8080/",
          "height": 461
        },
        "id": "x686ko_1NFJw",
        "outputId": "73c65ffe-fa24-419a-c054-7cf65a887216"
      },
      "execution_count": 18,
      "outputs": [
        {
          "output_type": "stream",
          "name": "stdout",
          "text": [
            "Ground-truth Texts             Prediction Texts\n",
            "ዕል፡ቀዳማ፡ዘውእቱ፡ሕፁፃ                ዕል፡ቀዳማ፡ዘውእቱ፡ሕፁፃ\n",
            "ሰከ፡ኅበ፡ይብል፡ሐዲከ፡ዐሉይ፡             ስከ፡ኅበ፡ይብል፡ሐደስ፡ወሉይ፡\n",
            "ር፡ከመ፡ይምሐረኒ                     ር፡ከመ፡ይምሐረኒ\n",
            "ናሁ፡አነሥእ፡እዲየ፡መን                 ናሁ፡አነሥእ፡ኔዲየ፡መን\n",
            "አሚረ፡እሙንቱ፡እለ፡የ                  አሚረ፡እሙንቱ፡እለ፡\n"
          ]
        },
        {
          "output_type": "display_data",
          "data": {
            "text/plain": [
              "<Figure size 500x200 with 1 Axes>"
            ],
            "image/png": "[encoded data removed]"
          },
          "metadata": {}
        },
        {
          "output_type": "display_data",
          "data": {
            "text/plain": [
              "<Figure size 500x200 with 1 Axes>"
            ],
            "image/png": "[encoded data removed]"
          },
          "metadata": {}
        },
        {
          "output_type": "display_data",
          "data": {
            "text/plain": [
              "<Figure size 500x200 with 1 Axes>"
            ],
            "image/png": "[encoded data removed]"
          },
          "metadata": {}
        },
        {
          "output_type": "display_data",
          "data": {
            "text/plain": [
              "<Figure size 500x200 with 1 Axes>"
            ],
            "image/png": "[encoded data removed]"
          },
          "metadata": {}
        },
        {
          "output_type": "display_data",
          "data": {
            "text/plain": [
              "<Figure size 500x200 with 1 Axes>"
            ],
            "image/png": "[encoded data removed]"
          },
          "metadata": {}
        }
      ]
    },
    {
      "cell_type": "markdown",
      "source": [
        "Sample example to comput the editdistance between the ground-truth and prediction texts and then compute the CER"
      ],
      "metadata": {
        "id": "btivRC66ZeuA"
      }
    },
    {
      "cell_type": "code",
      "source": [
        "import editdistance\n",
        "x=editdistance.eval('ዓገሠ።በዝሕማም፡መሥጋ፡ ','ዓገሠ።በዝሕማም፡በሥጋ፡')\n",
        "\n",
        "print(\"gt vs model \"+ str(x))\n"
      ],
      "metadata": {
        "colab": {
          "base_uri": "https://localhost:8080/"
        },
        "id": "dy8M7lIymDEf",
        "outputId": "075f0bb7-34cf-4da2-8c87-cfff46f385f0"
      },
      "execution_count": 21,
      "outputs": [
        {
          "output_type": "stream",
          "name": "stdout",
          "text": [
            "gt vs model 2\n"
          ]
        }
      ]
    },
    {
      "cell_type": "code",
      "source": [
        "gt='ዓገሠ።በዝሕማም፡መሥጋ፡'\n",
        "CER=float((x))/len(gt)*100\n",
        "print(CER)"
      ],
      "metadata": {
        "colab": {
          "base_uri": "https://localhost:8080/"
        },
        "id": "Ie4oQM4gkXZ-",
        "outputId": "b970783b-b609-4348-af40-129873e32d85"
      },
      "execution_count": 22,
      "outputs": [
        {
          "output_type": "stream",
          "name": "stdout",
          "text": [
            "14.285714285714285\n"
          ]
        }
      ]
    }
  ]
}
